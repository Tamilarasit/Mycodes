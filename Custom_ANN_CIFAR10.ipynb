{
  "nbformat": 4,
  "nbformat_minor": 0,
  "metadata": {
    "colab": {
      "provenance": [],
      "authorship_tag": "ABX9TyPpXaxIdvEaHB7pL/jITRZm",
      "include_colab_link": true
    },
    "kernelspec": {
      "name": "python3",
      "display_name": "Python 3"
    },
    "language_info": {
      "name": "python"
    }
  },
  "cells": [
    {
      "cell_type": "markdown",
      "metadata": {
        "id": "view-in-github",
        "colab_type": "text"
      },
      "source": [
        "<a href=\"https://colab.research.google.com/github/Tamilarasit/Mycodes/blob/main/Custom_ANN_CIFAR10.ipynb\" target=\"_parent\"><img src=\"https://colab.research.google.com/assets/colab-badge.svg\" alt=\"Open In Colab\"/></a>"
      ]
    },
    {
      "cell_type": "markdown",
      "source": [
        "# **Skeleton of the DL program**\n",
        "1.Import the modules and packages\n",
        "2.Data pipeline\n",
        "  > Loading the dataset\n",
        "  > Preprocessing the data\n",
        "\n",
        "3.Build and train the model\n",
        "  > Creating the model\n",
        "  > Compiling the model\n",
        "  > Fit the model\n",
        "\n",
        "4.Testing performance of the model\n",
        "> Evaluate the model's classification ability\n",
        "> Predictability of the unknown data\n",
        "\n",
        "\n",
        "\n",
        "\n",
        "\n",
        "\n",
        "\n",
        "\n",
        "\n",
        "\n",
        "\n",
        "\n",
        "\n"
      ],
      "metadata": {
        "id": "C8reIn-cUjBa"
      }
    },
    {
      "cell_type": "markdown",
      "source": [
        "# **Import the modules and packages**"
      ],
      "metadata": {
        "id": "7Zi-v5BjAfE4"
      }
    },
    {
      "cell_type": "code",
      "execution_count": 1,
      "metadata": {
        "id": "dogx8jdjAaQ3"
      },
      "outputs": [],
      "source": [
        "import numpy as np\n",
        "import tensorflow as tf\n",
        "import matplotlib.pyplot as plt\n",
        "from tensorflow.keras import datasets, layers, models"
      ]
    },
    {
      "cell_type": "markdown",
      "source": [
        "# Load the dataset"
      ],
      "metadata": {
        "id": "kpPtoGrhDlKr"
      }
    },
    {
      "cell_type": "code",
      "source": [
        "(X_train, y_train), (X_test,y_test) = datasets.cifar10.load_data()  # Dataset contains images and labels"
      ],
      "metadata": {
        "id": "_JzXCZvXFKhg",
        "colab": {
          "base_uri": "https://localhost:8080/"
        },
        "outputId": "1f8f2bea-7fe0-439e-e340-0d3c08589a13"
      },
      "execution_count": 2,
      "outputs": [
        {
          "output_type": "stream",
          "name": "stdout",
          "text": [
            "Downloading data from https://www.cs.toronto.edu/~kriz/cifar-10-python.tar.gz\n",
            "170498071/170498071 [==============================] - 4s 0us/step\n"
          ]
        }
      ]
    },
    {
      "cell_type": "code",
      "source": [
        "print(X_train.shape)\n",
        "print(X_test.shape)\n",
        "print(y_train.shape)"
      ],
      "metadata": {
        "id": "0aeSiRTroUHQ"
      },
      "execution_count": null,
      "outputs": []
    },
    {
      "cell_type": "code",
      "source": [
        "y_train[:10]   # In 2D ---> convert into 1D for classification"
      ],
      "metadata": {
        "id": "mayBIoByq5Yw"
      },
      "execution_count": null,
      "outputs": []
    },
    {
      "cell_type": "code",
      "source": [
        "y_train = y_train.reshape(-1,)  # reshape 2D to 1D\n",
        "y_test = y_test.reshape(-1,)\n",
        "y_train[:10]"
      ],
      "metadata": {
        "id": "T1Ahh-oyrDNL",
        "colab": {
          "base_uri": "https://localhost:8080/"
        },
        "outputId": "2b705e8d-43f2-484f-e6a8-5739d7628775"
      },
      "execution_count": 5,
      "outputs": [
        {
          "output_type": "execute_result",
          "data": {
            "text/plain": [
              "array([6, 9, 9, 4, 1, 1, 2, 7, 8, 3], dtype=uint8)"
            ]
          },
          "metadata": {},
          "execution_count": 5
        }
      ]
    },
    {
      "cell_type": "code",
      "source": [
        "classes = [\"airplane\",\"automobile\",\"bird\",\"cat\",\"deer\",\"dog\",\"frog\",\"horse\",\"ship\",\"truck\"]"
      ],
      "metadata": {
        "id": "X39EiMRYrPRf"
      },
      "execution_count": 6,
      "outputs": []
    },
    {
      "cell_type": "markdown",
      "source": [
        "Plot an image"
      ],
      "metadata": {
        "id": "rIBuIPRLujRr"
      }
    },
    {
      "cell_type": "code",
      "source": [
        "def plot_sample(X, y, index):\n",
        "    plt.figure(figsize = (15,2))\n",
        "    plt.imshow(X[index])\n",
        "    plt.xlabel(classes[y[index]])"
      ],
      "metadata": {
        "id": "18dFK44XrdxY"
      },
      "execution_count": 20,
      "outputs": []
    },
    {
      "cell_type": "code",
      "source": [
        "plot_sample(X_train, y_train, 1)"
      ],
      "metadata": {
        "id": "HXqS1kG3uuRi"
      },
      "execution_count": null,
      "outputs": []
    },
    {
      "cell_type": "markdown",
      "source": [
        "# **Build simple artificial neural network for image classification**\n",
        "1.Creating a model"
      ],
      "metadata": {
        "id": "A07Hf545vudG"
      }
    },
    {
      "cell_type": "code",
      "source": [
        "simple_ann = models.Sequential([\n",
        "        layers.Flatten(input_shape=(32,32,3)),\n",
        "        layers.Dense(3000, activation='relu'),\n",
        "        layers.Dense(1000, activation='relu'),\n",
        "        layers.Dense(10, activation='softmax')\n",
        "    ])"
      ],
      "metadata": {
        "id": "Rj8se3tFu3i-"
      },
      "execution_count": null,
      "outputs": []
    },
    {
      "cell_type": "markdown",
      "source": [],
      "metadata": {
        "id": "23hi6lAMUdCC"
      }
    },
    {
      "cell_type": "markdown",
      "source": [
        "2. Compiling a model\n",
        "   --- completely ready to use"
      ],
      "metadata": {
        "id": "G114_Zz4SJuD"
      }
    },
    {
      "cell_type": "code",
      "source": [
        "simple_ann.compile(optimizer='SGD',\n",
        "              loss='sparse_categorical_crossentropy',\n",
        "              metrics=['accuracy'])"
      ],
      "metadata": {
        "id": "fsnqr2-LSDz5"
      },
      "execution_count": null,
      "outputs": []
    },
    {
      "cell_type": "markdown",
      "source": [],
      "metadata": {
        "id": "CtVnrfxjS4kp"
      }
    },
    {
      "cell_type": "code",
      "source": [
        "simple_ann.fit(X_train, y_train, epochs=5)"
      ],
      "metadata": {
        "id": "karIct8NSHXx"
      },
      "execution_count": null,
      "outputs": []
    }
  ]
}